{
 "cells": [
  {
   "cell_type": "markdown",
   "id": "19580f95",
   "metadata": {
    "slideshow": {
     "slide_type": "slide"
    },
    "tags": []
   },
   "source": [
    "\n",
    "\n",
    "## A (superficial) introduction to Decision trees (or)\n",
    "\n",
    "### You too can predict the future using entropy 😬\n",
    "  \n",
    "&nbsp;\n",
    "&nbsp;\n",
    "\n",
    "\n",
    "      Aditya Godbole, Oneirix Labs\n"
   ]
  },
  {
   "cell_type": "markdown",
   "id": "4117b437",
   "metadata": {
    "slideshow": {
     "slide_type": "slide"
    },
    "tags": []
   },
   "source": [
    "---\n",
    "## Some basics\n",
    "<figure>\n",
    "    <img src=\"ML_model_types.png\" width=\"600px\"/>\n",
    "    <figcaption>Types of ML models</figcaption>\n",
    " </figure>"
   ]
  },
  {
   "cell_type": "markdown",
   "id": "cd73bc56",
   "metadata": {
    "slideshow": {
     "slide_type": "subslide"
    },
    "tags": []
   },
   "source": [
    "## Development cycle of a model\n",
    "\n",
    "<img src=\"ML_train_test.png\" width=\"600px\"/>"
   ]
  },
  {
   "cell_type": "code",
   "execution_count": 1,
   "id": "aa2e2889",
   "metadata": {
    "slideshow": {
     "slide_type": "skip"
    },
    "tags": []
   },
   "outputs": [],
   "source": [
    "import pandas as pd\n",
    "from sklearn import tree\n",
    "import numpy as np\n",
    "from sklearn import preprocessing\n",
    "from IPython.display import display"
   ]
  },
  {
   "cell_type": "markdown",
   "id": "6e961dca",
   "metadata": {
    "slideshow": {
     "slide_type": "slide"
    },
    "tags": []
   },
   "source": [
    "---\n",
    "## Decision trees\n",
    "\n",
    "### The problem statement\n",
    "\n",
    "Lets say we have data in the following tabular format of *past* data indicating weather conditions and whether a game was played on that day or not"
   ]
  },
  {
   "cell_type": "code",
   "execution_count": 2,
   "id": "4bddfdd2",
   "metadata": {
    "slideshow": {
     "slide_type": "subslide"
    },
    "tags": []
   },
   "outputs": [
    {
     "data": {
      "text/html": [
       "<div>\n",
       "<style scoped>\n",
       "    .dataframe tbody tr th:only-of-type {\n",
       "        vertical-align: middle;\n",
       "    }\n",
       "\n",
       "    .dataframe tbody tr th {\n",
       "        vertical-align: top;\n",
       "    }\n",
       "\n",
       "    .dataframe thead th {\n",
       "        text-align: right;\n",
       "    }\n",
       "</style>\n",
       "<table border=\"1\" class=\"dataframe\">\n",
       "  <thead>\n",
       "    <tr style=\"text-align: right;\">\n",
       "      <th></th>\n",
       "      <th>outlook</th>\n",
       "      <th>temp</th>\n",
       "      <th>humidity</th>\n",
       "      <th>windy</th>\n",
       "      <th>play</th>\n",
       "    </tr>\n",
       "  </thead>\n",
       "  <tbody>\n",
       "    <tr>\n",
       "      <th>0</th>\n",
       "      <td>sunny</td>\n",
       "      <td>hot</td>\n",
       "      <td>high</td>\n",
       "      <td>False</td>\n",
       "      <td>no</td>\n",
       "    </tr>\n",
       "    <tr>\n",
       "      <th>1</th>\n",
       "      <td>sunny</td>\n",
       "      <td>hot</td>\n",
       "      <td>high</td>\n",
       "      <td>True</td>\n",
       "      <td>no</td>\n",
       "    </tr>\n",
       "    <tr>\n",
       "      <th>2</th>\n",
       "      <td>overcast</td>\n",
       "      <td>hot</td>\n",
       "      <td>high</td>\n",
       "      <td>False</td>\n",
       "      <td>yes</td>\n",
       "    </tr>\n",
       "    <tr>\n",
       "      <th>3</th>\n",
       "      <td>rainy</td>\n",
       "      <td>mild</td>\n",
       "      <td>high</td>\n",
       "      <td>False</td>\n",
       "      <td>yes</td>\n",
       "    </tr>\n",
       "    <tr>\n",
       "      <th>4</th>\n",
       "      <td>rainy</td>\n",
       "      <td>cool</td>\n",
       "      <td>normal</td>\n",
       "      <td>False</td>\n",
       "      <td>yes</td>\n",
       "    </tr>\n",
       "    <tr>\n",
       "      <th>5</th>\n",
       "      <td>rainy</td>\n",
       "      <td>cool</td>\n",
       "      <td>normal</td>\n",
       "      <td>True</td>\n",
       "      <td>no</td>\n",
       "    </tr>\n",
       "    <tr>\n",
       "      <th>6</th>\n",
       "      <td>overcast</td>\n",
       "      <td>cool</td>\n",
       "      <td>normal</td>\n",
       "      <td>True</td>\n",
       "      <td>yes</td>\n",
       "    </tr>\n",
       "    <tr>\n",
       "      <th>7</th>\n",
       "      <td>sunny</td>\n",
       "      <td>mild</td>\n",
       "      <td>high</td>\n",
       "      <td>False</td>\n",
       "      <td>no</td>\n",
       "    </tr>\n",
       "    <tr>\n",
       "      <th>8</th>\n",
       "      <td>sunny</td>\n",
       "      <td>cool</td>\n",
       "      <td>normal</td>\n",
       "      <td>False</td>\n",
       "      <td>yes</td>\n",
       "    </tr>\n",
       "    <tr>\n",
       "      <th>9</th>\n",
       "      <td>rainy</td>\n",
       "      <td>mild</td>\n",
       "      <td>normal</td>\n",
       "      <td>False</td>\n",
       "      <td>yes</td>\n",
       "    </tr>\n",
       "    <tr>\n",
       "      <th>10</th>\n",
       "      <td>sunny</td>\n",
       "      <td>mild</td>\n",
       "      <td>normal</td>\n",
       "      <td>True</td>\n",
       "      <td>yes</td>\n",
       "    </tr>\n",
       "    <tr>\n",
       "      <th>11</th>\n",
       "      <td>overcast</td>\n",
       "      <td>mild</td>\n",
       "      <td>high</td>\n",
       "      <td>True</td>\n",
       "      <td>yes</td>\n",
       "    </tr>\n",
       "    <tr>\n",
       "      <th>12</th>\n",
       "      <td>overcast</td>\n",
       "      <td>hot</td>\n",
       "      <td>normal</td>\n",
       "      <td>False</td>\n",
       "      <td>yes</td>\n",
       "    </tr>\n",
       "    <tr>\n",
       "      <th>13</th>\n",
       "      <td>rainy</td>\n",
       "      <td>mild</td>\n",
       "      <td>high</td>\n",
       "      <td>True</td>\n",
       "      <td>no</td>\n",
       "    </tr>\n",
       "  </tbody>\n",
       "</table>\n",
       "</div>"
      ],
      "text/plain": [
       "     outlook  temp humidity  windy play\n",
       "0      sunny   hot     high  False   no\n",
       "1      sunny   hot     high   True   no\n",
       "2   overcast   hot     high  False  yes\n",
       "3      rainy  mild     high  False  yes\n",
       "4      rainy  cool   normal  False  yes\n",
       "5      rainy  cool   normal   True   no\n",
       "6   overcast  cool   normal   True  yes\n",
       "7      sunny  mild     high  False   no\n",
       "8      sunny  cool   normal  False  yes\n",
       "9      rainy  mild   normal  False  yes\n",
       "10     sunny  mild   normal   True  yes\n",
       "11  overcast  mild     high   True  yes\n",
       "12  overcast   hot   normal  False  yes\n",
       "13     rainy  mild     high   True   no"
      ]
     },
     "execution_count": 2,
     "metadata": {},
     "output_type": "execute_result"
    }
   ],
   "source": [
    "inp = pd.read_csv(\"data.csv\")\n",
    "inp"
   ]
  },
  {
   "cell_type": "markdown",
   "id": "7c6c85e0",
   "metadata": {
    "slideshow": {
     "slide_type": "subslide"
    },
    "tags": []
   },
   "source": [
    "And we want to train a tree based model such that\n",
    "\n",
    "- Given a new tulple (row) with values for the above columns\n",
    "- We want to predict whether or not there will be any play"
   ]
  },
  {
   "cell_type": "markdown",
   "id": "cabc5952",
   "metadata": {
    "slideshow": {
     "slide_type": "subslide"
    },
    "tags": []
   },
   "source": [
    "The model will be a tree of questions based on the features (columns) somewhat similar to this one\n",
    "\n",
    "<img src=\"eg1.png\" width=\"600px\"/>"
   ]
  },
  {
   "cell_type": "markdown",
   "id": "ecbf8394",
   "metadata": {
    "slideshow": {
     "slide_type": "subslide"
    },
    "tags": []
   },
   "source": [
    "### Considerations for building the tree model\n",
    "\n",
    "- For each node, which feature should we ask the question on?\n",
    "\n",
    "Intuitively, a shorter tree is a better model and will generalise better.\n",
    "(We will see a more formal proof of this later).\n",
    "\n",
    "### So we want to prioritise those features which have \"more information\"\n",
    "### A feature carries more information if it separates the target variable better"
   ]
  },
  {
   "cell_type": "markdown",
   "id": "0325b4ea",
   "metadata": {
    "slideshow": {
     "slide_type": "slide"
    },
    "tags": []
   },
   "source": [
    "---\n",
    "## Entropy\n",
    "\n",
    "From information theory, we have concept called **entropy**\n",
    "\n",
    "- which tells how homogenous a particular data set is\n",
    "- entropy is higher if the data-set is more evenly spread\n",
    "- entropy is lower if it is less evenly spread\n",
    "\n",
    "Consider a feature which has only two categories, like `Windy`. We will call these categories $\\oplus$ and $\\ominus$\n",
    "\n",
    "Then entropy of the feature\n",
    "\n",
    "$$\n",
    "Entropy(S) = -p_\\oplus log_2 p_\\oplus -p_\\ominus log_2 p_\\ominus\n",
    "$$\n"
   ]
  },
  {
   "cell_type": "code",
   "execution_count": 3,
   "id": "82eecf5f",
   "metadata": {
    "slideshow": {
     "slide_type": "subslide"
    },
    "tags": []
   },
   "outputs": [
    {
     "name": "stdout",
     "output_type": "stream",
     "text": [
      "pos=6, neg=8, tot=14\n",
      "e_windy=0.9852281360342515\n"
     ]
    }
   ],
   "source": [
    "windy = inp['windy']\n",
    "pos = len(windy[windy == True])\n",
    "neg = len(windy[windy == False])\n",
    "tot = len(windy)\n",
    "print(f\"{pos=}, {neg=}, {tot=}\")\n",
    "e_windy = -(pos/tot)*np.log2(pos/tot) -(neg/tot)*np.log2(neg/tot)\n",
    "print(f\"{e_windy=}\")"
   ]
  },
  {
   "cell_type": "code",
   "execution_count": 4,
   "id": "7ab20ae6",
   "metadata": {
    "slideshow": {
     "slide_type": "subslide"
    },
    "tags": []
   },
   "outputs": [
    {
     "name": "stdout",
     "output_type": "stream",
     "text": [
      "entropy(windy)=0.9852281360342515\n",
      "entropy(inp['play'])=0.9402859586706311\n"
     ]
    }
   ],
   "source": [
    "def entropy(vals):\n",
    "    counts = vals.value_counts(normalize=True, sort=False)\n",
    "    return (-counts*np.log2(counts)).sum()\n",
    "print(f\"{entropy(windy)=}\")\n",
    "print(f\"{entropy(inp['play'])=}\")"
   ]
  },
  {
   "cell_type": "markdown",
   "id": "1d837a2f",
   "metadata": {
    "slideshow": {
     "slide_type": "subslide"
    },
    "tags": []
   },
   "source": [
    "### The entropy plot of a binary value feature looks like\n",
    "\n",
    "<img src=\"entr_plot.svg\" width=\"400px\"/>"
   ]
  },
  {
   "cell_type": "markdown",
   "id": "4fa6b1fe",
   "metadata": {
    "slideshow": {
     "slide_type": "slide"
    },
    "tags": []
   },
   "source": [
    "---\n",
    "### Entropy wrt target (relative entropy)\n",
    "\n",
    "$$\n",
    "Entropy_{play}(windy) = p_{windy(\\oplus)}(Entropy_{play} \\forall windy \\in \\oplus) + p_{windy(\\ominus)}(Entropy_{play} \\forall windy \\in \\ominus)\n",
    "$$"
   ]
  },
  {
   "cell_type": "code",
   "execution_count": 5,
   "id": "98f1178f",
   "metadata": {
    "slideshow": {
     "slide_type": "fragment"
    },
    "tags": []
   },
   "outputs": [
    {
     "data": {
      "text/plain": [
       "0.8921589282623617"
      ]
     },
     "execution_count": 5,
     "metadata": {},
     "output_type": "execute_result"
    }
   ],
   "source": [
    "play_windy_true = inp.loc[inp['windy'] == True, 'play']\n",
    "play_windy_false = inp.loc[inp['windy'] == False, 'play']\n",
    "eplay_windy = (entropy(play_windy_true)*len(play_windy_true)/len(inp) + entropy(play_windy_false)*len(play_windy_false)/len(inp))\n",
    "eplay_windy"
   ]
  },
  {
   "cell_type": "code",
   "execution_count": 6,
   "id": "e3161c36",
   "metadata": {
    "slideshow": {
     "slide_type": "fragment"
    },
    "tags": []
   },
   "outputs": [
    {
     "data": {
      "text/plain": [
       "0.8921589282623617"
      ]
     },
     "execution_count": 6,
     "metadata": {},
     "output_type": "execute_result"
    }
   ],
   "source": [
    "def rel_entropy(data, attr, target):\n",
    "    return data.groupby(attr).apply(lambda x: entropy(x[target])*len(x)/len(data)).sum()\n",
    "rel_entropy(inp, 'windy', 'play')"
   ]
  },
  {
   "cell_type": "markdown",
   "id": "c47af136",
   "metadata": {
    "slideshow": {
     "slide_type": "subslide"
    },
    "tags": []
   },
   "source": [
    "## Information gain\n",
    "\n",
    "$$\n",
    "Gain(Play, Windy) = Entropy_{play} - Entropy_{play}(windy)\n",
    "$$\n",
    "\n",
    "### When we split the data based on values of Windy\n",
    "- What is the total entropy of Play for each node\n",
    "- What is the sum of totals on entropy of each node\n",
    "- How much lesser is it compared to the entropy prior to the split?\n",
    "  "
   ]
  },
  {
   "cell_type": "markdown",
   "id": "365bc77a",
   "metadata": {
    "slideshow": {
     "slide_type": "subslide"
    },
    "tags": []
   },
   "source": [
    "  \n",
    "<img src=\"eg2.png\" width=\"700px\"/>\n"
   ]
  },
  {
   "cell_type": "code",
   "execution_count": 7,
   "id": "3460f954",
   "metadata": {
    "slideshow": {
     "slide_type": "fragment"
    },
    "tags": []
   },
   "outputs": [
    {
     "name": "stdout",
     "output_type": "stream",
     "text": [
      "gain_windy=0.04812703040826949\n",
      "gain_humidity=0.15183550136234159\n"
     ]
    }
   ],
   "source": [
    "play = inp['play']\n",
    "gain_windy = entropy(play) - rel_entropy(inp, 'windy', 'play')\n",
    "print(f\"{gain_windy=}\")\n",
    "gain_humidity = entropy(play) - rel_entropy(inp, 'humidity', 'play')\n",
    "print(f\"{gain_humidity=}\")"
   ]
  },
  {
   "cell_type": "markdown",
   "id": "5c0ebd2f",
   "metadata": {
    "slideshow": {
     "slide_type": "slide"
    },
    "tags": []
   },
   "source": [
    "---\n",
    "### To select the feature to split on for a node\n",
    "\n",
    "1. Calculate relative entropies of target feature wrt to each input feature\n",
    "2. Select the feature with maximum information gain\n"
   ]
  },
  {
   "cell_type": "markdown",
   "id": "06f09c2f",
   "metadata": {
    "slideshow": {
     "slide_type": "slide"
    },
    "tags": []
   },
   "source": [
    "---\n",
    "### Non discrete input features\n",
    "\n",
    "- Non discrete features are handled by\n",
    " - Sorting the data by the feature values\n",
    " - Find values for which target variable changes\n",
    " - Define a category boundary at the midpoint of the change\n",
    " \n",
    "Eg.\n",
    "\n",
    "||||||||\n",
    "|---|---|---|---|---|---|---|\n",
    "|Temperature|40|48|60|72|80|90|\n",
    "|Play|No|No|Yes|Yes|Yes|No|\n",
    "\n",
    "Switches occur at Temperature = 60 and 90  \n",
    "\n",
    "Category are therefore computed at $Temp = (48+60)/2$ and $Temp = (80+90)/2$\n"
   ]
  },
  {
   "cell_type": "code",
   "execution_count": 8,
   "id": "5fdc7e13",
   "metadata": {
    "slideshow": {
     "slide_type": "subslide"
    },
    "tags": []
   },
   "outputs": [
    {
     "data": {
      "text/html": [
       "<div>\n",
       "<style scoped>\n",
       "    .dataframe tbody tr th:only-of-type {\n",
       "        vertical-align: middle;\n",
       "    }\n",
       "\n",
       "    .dataframe tbody tr th {\n",
       "        vertical-align: top;\n",
       "    }\n",
       "\n",
       "    .dataframe thead th {\n",
       "        text-align: right;\n",
       "    }\n",
       "</style>\n",
       "<table border=\"1\" class=\"dataframe\">\n",
       "  <thead>\n",
       "    <tr style=\"text-align: right;\">\n",
       "      <th></th>\n",
       "      <th>outlook</th>\n",
       "      <th>temp</th>\n",
       "      <th>humidity</th>\n",
       "      <th>windy</th>\n",
       "      <th>play</th>\n",
       "    </tr>\n",
       "  </thead>\n",
       "  <tbody>\n",
       "    <tr>\n",
       "      <th>0</th>\n",
       "      <td>2</td>\n",
       "      <td>1</td>\n",
       "      <td>0</td>\n",
       "      <td>0</td>\n",
       "      <td>0</td>\n",
       "    </tr>\n",
       "    <tr>\n",
       "      <th>1</th>\n",
       "      <td>2</td>\n",
       "      <td>1</td>\n",
       "      <td>0</td>\n",
       "      <td>1</td>\n",
       "      <td>0</td>\n",
       "    </tr>\n",
       "    <tr>\n",
       "      <th>2</th>\n",
       "      <td>0</td>\n",
       "      <td>1</td>\n",
       "      <td>0</td>\n",
       "      <td>0</td>\n",
       "      <td>1</td>\n",
       "    </tr>\n",
       "    <tr>\n",
       "      <th>3</th>\n",
       "      <td>1</td>\n",
       "      <td>2</td>\n",
       "      <td>0</td>\n",
       "      <td>0</td>\n",
       "      <td>1</td>\n",
       "    </tr>\n",
       "    <tr>\n",
       "      <th>4</th>\n",
       "      <td>1</td>\n",
       "      <td>0</td>\n",
       "      <td>1</td>\n",
       "      <td>0</td>\n",
       "      <td>1</td>\n",
       "    </tr>\n",
       "    <tr>\n",
       "      <th>5</th>\n",
       "      <td>1</td>\n",
       "      <td>0</td>\n",
       "      <td>1</td>\n",
       "      <td>1</td>\n",
       "      <td>0</td>\n",
       "    </tr>\n",
       "    <tr>\n",
       "      <th>6</th>\n",
       "      <td>0</td>\n",
       "      <td>0</td>\n",
       "      <td>1</td>\n",
       "      <td>1</td>\n",
       "      <td>1</td>\n",
       "    </tr>\n",
       "    <tr>\n",
       "      <th>7</th>\n",
       "      <td>2</td>\n",
       "      <td>2</td>\n",
       "      <td>0</td>\n",
       "      <td>0</td>\n",
       "      <td>0</td>\n",
       "    </tr>\n",
       "    <tr>\n",
       "      <th>8</th>\n",
       "      <td>2</td>\n",
       "      <td>0</td>\n",
       "      <td>1</td>\n",
       "      <td>0</td>\n",
       "      <td>1</td>\n",
       "    </tr>\n",
       "    <tr>\n",
       "      <th>9</th>\n",
       "      <td>1</td>\n",
       "      <td>2</td>\n",
       "      <td>1</td>\n",
       "      <td>0</td>\n",
       "      <td>1</td>\n",
       "    </tr>\n",
       "    <tr>\n",
       "      <th>10</th>\n",
       "      <td>2</td>\n",
       "      <td>2</td>\n",
       "      <td>1</td>\n",
       "      <td>1</td>\n",
       "      <td>1</td>\n",
       "    </tr>\n",
       "    <tr>\n",
       "      <th>11</th>\n",
       "      <td>0</td>\n",
       "      <td>2</td>\n",
       "      <td>0</td>\n",
       "      <td>1</td>\n",
       "      <td>1</td>\n",
       "    </tr>\n",
       "    <tr>\n",
       "      <th>12</th>\n",
       "      <td>0</td>\n",
       "      <td>1</td>\n",
       "      <td>1</td>\n",
       "      <td>0</td>\n",
       "      <td>1</td>\n",
       "    </tr>\n",
       "    <tr>\n",
       "      <th>13</th>\n",
       "      <td>1</td>\n",
       "      <td>2</td>\n",
       "      <td>0</td>\n",
       "      <td>1</td>\n",
       "      <td>0</td>\n",
       "    </tr>\n",
       "  </tbody>\n",
       "</table>\n",
       "</div>"
      ],
      "text/plain": [
       "    outlook  temp  humidity  windy  play\n",
       "0         2     1         0      0     0\n",
       "1         2     1         0      1     0\n",
       "2         0     1         0      0     1\n",
       "3         1     2         0      0     1\n",
       "4         1     0         1      0     1\n",
       "5         1     0         1      1     0\n",
       "6         0     0         1      1     1\n",
       "7         2     2         0      0     0\n",
       "8         2     0         1      0     1\n",
       "9         1     2         1      0     1\n",
       "10        2     2         1      1     1\n",
       "11        0     2         0      1     1\n",
       "12        0     1         1      0     1\n",
       "13        1     2         0      1     0"
      ]
     },
     "execution_count": 8,
     "metadata": {},
     "output_type": "execute_result"
    }
   ],
   "source": [
    "inp_l = inp.apply(preprocessing.LabelEncoder().fit_transform)\n",
    "inp_l"
   ]
  },
  {
   "cell_type": "code",
   "execution_count": 9,
   "id": "a0aeaf3f",
   "metadata": {
    "slideshow": {
     "slide_type": "subslide"
    },
    "tags": []
   },
   "outputs": [],
   "source": [
    "Y = inp_l['play']\n",
    "X = inp_l.drop(columns=['play'])\n",
    "clf = tree.DecisionTreeClassifier(criterion='entropy')\n",
    "clf = clf.fit(X, Y)"
   ]
  },
  {
   "cell_type": "code",
   "execution_count": 10,
   "id": "8164c164",
   "metadata": {
    "slideshow": {
     "slide_type": "subslide"
    },
    "tags": []
   },
   "outputs": [
    {
     "data": {
      "image/png": "[encoded data removed]",
      "text/plain": [
       "<Figure size 432x288 with 1 Axes>"
      ]
     },
     "metadata": {
      "needs_background": "light"
     },
     "output_type": "display_data"
    }
   ],
   "source": [
    "plt = tree.plot_tree(clf)"
   ]
  },
  {
   "cell_type": "markdown",
   "id": "51978fbd",
   "metadata": {
    "slideshow": {
     "slide_type": "slide"
    },
    "tags": []
   },
   "source": [
    "---\n",
    "### Uses of decision tree classifiers\n",
    "\n",
    "1. Building supervised classification models\n",
    "2. Deriving rules for unsupervised classification models"
   ]
  },
  {
   "cell_type": "markdown",
   "id": "768333f1",
   "metadata": {
    "slideshow": {
     "slide_type": "slide"
    },
    "tags": []
   },
   "source": [
    "---\n",
    "## Decision tree regression\n",
    "\n",
    "- For classification: maximise information gain\n",
    "- For regression: minimise standard deviation"
   ]
  },
  {
   "cell_type": "markdown",
   "id": "5c81187c",
   "metadata": {
    "slideshow": {
     "slide_type": "slide"
    },
    "tags": []
   },
   "source": [
    "---\n",
    "## Overfitting\n",
    "\n",
    "Overfitting is a standard tradeoff in learning algorithms\n",
    "\n",
    "- Tree can fit all seen data\n",
    "- What about unseen data?\n",
    "  - There is a tradeoff between accuracy of fitting training data vs accuracy of predicting unseen data\n",
    "- Smaller trees are more generalised"
   ]
  },
  {
   "cell_type": "code",
   "execution_count": null,
   "id": "b347e6dd",
   "metadata": {},
   "outputs": [],
   "source": []
  }
 ],
 "metadata": {
  "interpreter": {
   "hash": "db9146a001a1622b8d9b9f0d9a3b2838f2577b39c172f598fcfb68f12893c99d"
  },
  "kernelspec": {
   "display_name": "decisiontree",
   "language": "python",
   "name": "decisiontree"
  },
  "language_info": {
   "codemirror_mode": {
    "name": "ipython",
    "version": 3
   },
   "file_extension": ".py",
   "mimetype": "text/x-python",
   "name": "python",
   "nbconvert_exporter": "python",
   "pygments_lexer": "ipython3",
   "version": "3.9.6"
  }
 },
 "nbformat": 4,
 "nbformat_minor": 5
}
